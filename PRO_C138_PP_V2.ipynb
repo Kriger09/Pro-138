{
  "nbformat": 4,
  "nbformat_minor": 0,
  "metadata": {
    "colab": {
      "name": "PRO-C138-PP_V2.ipynb",
      "provenance": []
    },
    "kernelspec": {
      "name": "python3",
      "display_name": "Python 3"
    },
    "language_info": {
      "name": "python"
    }
  },
  "cells": [
    {
      "cell_type": "code",
      "execution_count": null,
      "metadata": {
        "id": "NrKUEP3cVa93"
      },
      "outputs": [],
      "source": [
        "# Instalar el módulo de kaggle.\n"
      ]
    },
    {
      "cell_type": "code",
      "source": [
        "# Subir el archivo kaggle.json."
      ],
      "metadata": {
        "id": "DB5vl_C4Vzju"
      },
      "execution_count": null,
      "outputs": []
    },
    {
      "cell_type": "code",
      "source": [
        "# Hacer un directorio oculto, copiar kaggle.json en este directorio y cambiar la configuración o modo."
      ],
      "metadata": {
        "id": "76J5_KZrWKX_"
      },
      "execution_count": null,
      "outputs": []
    },
    {
      "cell_type": "code",
      "source": [
        "# Descargar el conjunto de datos de los artículos."
      ],
      "metadata": {
        "id": "XA2STvWYWydv"
      },
      "execution_count": null,
      "outputs": []
    },
    {
      "cell_type": "code",
      "source": [
        "# Enlistar todos los archivos del directorio de trabajo."
      ],
      "metadata": {
        "id": "KlcT6RGAW11Z"
      },
      "execution_count": null,
      "outputs": []
    },
    {
      "cell_type": "code",
      "source": [
        "# Descomprimir los archivos descargados."
      ],
      "metadata": {
        "id": "v2W3d34xW7qD"
      },
      "execution_count": null,
      "outputs": []
    },
    {
      "cell_type": "code",
      "source": [
        "# Crear un DataFrame."
      ],
      "metadata": {
        "id": "4TSvIjQnXAcI"
      },
      "execution_count": null,
      "outputs": []
    },
    {
      "cell_type": "code",
      "source": [
        "# Imprimir las primeras 5 filas del primer DataFrame."
      ],
      "metadata": {
        "id": "jB5RDqTJXUet"
      },
      "execution_count": null,
      "outputs": []
    },
    {
      "cell_type": "code",
      "source": [
        "# Imprimir las primeras 5 filas del segundo DataFrame."
      ],
      "metadata": {
        "id": "eS-N-uLfXbQS"
      },
      "execution_count": null,
      "outputs": []
    },
    {
      "cell_type": "code",
      "source": [
        "# Información para el primer conjunto de datos."
      ],
      "metadata": {
        "id": "C5HCfkLAXmf6"
      },
      "execution_count": null,
      "outputs": []
    },
    {
      "cell_type": "code",
      "source": [
        "# Información para el segundo conjunto de datos."
      ],
      "metadata": {
        "id": "Wb3QH_ZaXszG"
      },
      "execution_count": null,
      "outputs": []
    }
  ]
}